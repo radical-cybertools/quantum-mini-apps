{
 "cells": [
  {
   "cell_type": "code",
   "execution_count": 2,
   "metadata": {},
   "outputs": [],
   "source": [
    "# Standard library imports\n",
    "import argparse\n",
    "import json\n",
    "import os\n",
    "import subprocess\n",
    "import sys\n",
    "import time\n",
    "from timeit import default_timer as timer\n",
    "import logging\n",
    "# Third party imports\n",
    "import pennylane as qml\n",
    "from pennylane import numpy as np\n",
    "import jax.numpy as jnp\n",
    "from pennylane import qjit \n",
    "from qiskit import QuantumCircuit\n"
   ]
  },
  {
   "cell_type": "code",
   "execution_count": null,
   "metadata": {},
   "outputs": [],
   "source": [
    "import jax\n",
    "jax.devices()"
   ]
  },
  {
   "cell_type": "code",
   "execution_count": null,
   "metadata": {},
   "outputs": [],
   "source": [
    "%%time\n",
    "\n",
    "for n_wires in [29, 30, 31]:\n",
    "    n_layers = 2\n",
    "    rank = 0\n",
    "    num_runs = 1\n",
    "    dev = qml.device(\"lightning.qubit\", wires=n_wires)\n",
    "\n",
    "    # Create QNode of device and circuit\n",
    "    def circuit_adj(weights):\n",
    "        qml.StronglyEntanglingLayers(weights, wires=list(range(n_wires)))\n",
    "        return [qml.expval(qml.PauliZ(i)) for i in range(n_wires)]\n",
    "        #return qml.expval(qml.PauliZ(0))\n",
    "\n",
    "    params = jnp.array(\n",
    "        np.random.random(qml.StronglyEntanglingLayers.shape(n_layers=n_layers, n_wires=n_wires)), \n",
    "        dtype=jnp.float64\n",
    "    )\n",
    "\n",
    "    enable_jacobian = False\n",
    "    if enable_jacobian:\n",
    "        diff_method = \"adjoint\"\n",
    "        # print(f\"Initializing QNode with jacobian enabled: interface=autograd, diff_method={diff_method}\")\n",
    "        circuit_adj = qml.qnode(dev, interface=\"autograd\", diff_method=diff_method)(circuit_adj)\n",
    "    else:\n",
    "        # print(\"Initializing QNode without jacobian\")\n",
    "        circuit_adj = qml.qnode(dev)(circuit_adj) \n",
    "\n",
    "    enable_qjit = True\n",
    "    if enable_qjit:\n",
    "        circuit_adj = qjit(circuit_adj)\n",
    "\n",
    "    # Create MetricsWriter instance if rank 0\n",
    "    timing = []\n",
    "    for t in range(num_runs):\n",
    "        start = time.time()            \n",
    "        if enable_jacobian:\n",
    "            # print(\"Calculating Jacobian\")\n",
    "            result = qml.jacobian(circuit_adj)(params)\n",
    "        else:\n",
    "            # print(\"Calculating State Vector without Jacobian\")\n",
    "            result = circuit_adj(params)\n",
    "        end = time.time()\n",
    "        timing.append(end - start)\n",
    "\n",
    "    # Calculate and print average time\n",
    "    avg_time = np.mean(timing)\n",
    "    print(f\"Number Qubits: {n_wires}, Number Layers: {n_layers}, Device: {dev.name}, JIT: {enable_qjit}, Jacobian: {enable_jacobian}, Average time per run: {avg_time:.4f} seconds\")"
   ]
  },
  {
   "cell_type": "code",
   "execution_count": null,
   "metadata": {},
   "outputs": [],
   "source": [
    "# Export the circuit to OpenQASM\n",
    "qiskit_dev = qml.device(\"qiskit.aer\", wires=n_wires)\n",
    "\n",
    "@qml.qnode(qiskit_dev)\n",
    "def circuit_qiskit(weights):\n",
    "    qml.StronglyEntanglingLayers(weights, wires=list(range(n_wires)))\n",
    "    return qml.math.hstack([qml.expval(qml.PauliZ(i)) for i in range(n_wires)])\n",
    "\n",
    "circuit_qiskit(params)\n",
    "\n",
    "qiskit_circuit = qiskit_dev._circuit  # Access the Qiskit QuantumCircuit object\n"
   ]
  },
  {
   "cell_type": "code",
   "execution_count": null,
   "metadata": {},
   "outputs": [],
   "source": [
    "qasm_code = qiskit_circuit.qasm()  # Export to OpenQASM\n",
    "\n",
    "# Save the QASM code to a file\n",
    "with open(\"circuit.qasm\", \"w\") as f:\n",
    "    f.write(qasm_code)\n",
    "\n",
    "# Print the QASM code\n",
    "print(qasm_code)"
   ]
  },
  {
   "cell_type": "code",
   "execution_count": null,
   "metadata": {},
   "outputs": [],
   "source": [
    "dev.name"
   ]
  }
 ],
 "metadata": {
  "kernelspec": {
   "display_name": "Python 3",
   "language": "python",
   "name": "python3"
  },
  "language_info": {
   "codemirror_mode": {
    "name": "ipython",
    "version": 3
   },
   "file_extension": ".py",
   "mimetype": "text/x-python",
   "name": "python",
   "nbconvert_exporter": "python",
   "pygments_lexer": "ipython3",
   "version": "3.12.8"
  }
 },
 "nbformat": 4,
 "nbformat_minor": 2
}
